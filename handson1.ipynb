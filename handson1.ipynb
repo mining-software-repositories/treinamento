{
  "nbformat": 4,
  "nbformat_minor": 0,
  "metadata": {
    "colab": {
      "name": "handson1.ipynb",
      "provenance": [],
      "collapsed_sections": [
        "E1jCC09L1f2a"
      ]
    },
    "kernelspec": {
      "name": "python3",
      "display_name": "Python 3"
    },
    "language_info": {
      "name": "python"
    }
  },
  "cells": [
    {
      "cell_type": "markdown",
      "source": [
        "# 1. Aspectos básicos do google colab\n",
        "\n",
        "https://colab.research.google.com\n",
        "\n",
        "- Ambiente interativo que permite escrever e executar código. \n",
        "\n",
        "- Permite o uso de imagem, html, Latex, markdown (https://www.markdownguide.org/getting-started/)\n",
        "\n",
        "- A formatação mais comum é feita via markdown"
      ],
      "metadata": {
        "id": "Ai1bPKdR08uA"
      }
    },
    {
      "cell_type": "markdown",
      "source": [
        "# 2. Acesso ao Google Drive pessoal\n",
        "\n",
        "from google.colab import drive\n",
        "\n",
        "drive.mount('/content/gdrive')"
      ],
      "metadata": {
        "id": "E1jCC09L1f2a"
      }
    },
    {
      "cell_type": "code",
      "source": [
        ""
      ],
      "metadata": {
        "id": "IgjY8uyp1CzB"
      },
      "execution_count": 10,
      "outputs": []
    },
    {
      "cell_type": "markdown",
      "source": [
        "# 3. Execução de comandos Linux"
      ],
      "metadata": {
        "id": "BX_ZtORE2Abx"
      }
    },
    {
      "cell_type": "markdown",
      "source": [
        "pwd - exibe o diretório corrente"
      ],
      "metadata": {
        "id": "pZszfT2M3Xwa"
      }
    },
    {
      "cell_type": "code",
      "source": [
        ""
      ],
      "metadata": {
        "id": "Zru3fWtE1uAF"
      },
      "execution_count": 10,
      "outputs": []
    },
    {
      "cell_type": "markdown",
      "source": [
        "ls - lista o conteúdo do diretório corrente"
      ],
      "metadata": {
        "id": "gDJL7lSk3gtq"
      }
    },
    {
      "cell_type": "code",
      "source": [
        ""
      ],
      "metadata": {
        "id": "7db0XYKW184a"
      },
      "execution_count": 11,
      "outputs": []
    },
    {
      "cell_type": "markdown",
      "source": [
        "Acessa um diretório do google drive pessoal\n",
        "\n",
        "/content/gdrive/MyDrive/Ciência da Computação/Doutorado/treinamentos\n"
      ],
      "metadata": {
        "id": "SnfkTseO3rZs"
      }
    },
    {
      "cell_type": "code",
      "source": [
        ""
      ],
      "metadata": {
        "id": "aQEwAU102EV4"
      },
      "execution_count": 11,
      "outputs": []
    },
    {
      "cell_type": "markdown",
      "source": [
        "Copia um arquivo da area de trabalho para um diretório no google drive pessoal"
      ],
      "metadata": {
        "id": "qvmt59KU4FUv"
      }
    },
    {
      "cell_type": "code",
      "source": [
        ""
      ],
      "metadata": {
        "id": "gIqGEYU72pmq"
      },
      "execution_count": 11,
      "outputs": []
    },
    {
      "cell_type": "markdown",
      "source": [
        "Download de links públicos da web - wget\n",
        "\n",
        "link: https://raw.githubusercontent.com/leogermani/estados-e-municipios-ibge/master/estados.csv\n"
      ],
      "metadata": {
        "id": "-Goq7grH9Yq-"
      }
    },
    {
      "cell_type": "code",
      "source": [
        ""
      ],
      "metadata": {
        "id": "YivCWslz7_pi"
      },
      "execution_count": 21,
      "outputs": []
    },
    {
      "cell_type": "markdown",
      "source": [
        "# 4. Importando um repositório git\n",
        "\n",
        "repositório: https://github.com/armandossrecife/promocity.git"
      ],
      "metadata": {
        "id": "0ySHkhEt-wDy"
      }
    },
    {
      "cell_type": "code",
      "source": [
        "!git clone https://github.com/armandossrecife/promocity.git"
      ],
      "metadata": {
        "colab": {
          "base_uri": "https://localhost:8080/"
        },
        "id": "zRzs-hZo-zrx",
        "outputId": "584218e5-1fb3-4ad8-c37b-32f6a6d14022"
      },
      "execution_count": 34,
      "outputs": [
        {
          "output_type": "stream",
          "name": "stdout",
          "text": [
            "Cloning into 'promocity'...\n",
            "remote: Enumerating objects: 841, done.\u001b[K\n",
            "remote: Counting objects: 100% (43/43), done.\u001b[K\n",
            "remote: Compressing objects: 100% (29/29), done.\u001b[K\n",
            "remote: Total 841 (delta 10), reused 21 (delta 2), pack-reused 798\u001b[K\n",
            "Receiving objects: 100% (841/841), 4.00 MiB | 28.44 MiB/s, done.\n",
            "Resolving deltas: 100% (324/324), done.\n"
          ]
        }
      ]
    },
    {
      "cell_type": "code",
      "source": [
        "repositorio = \"promocity\""
      ],
      "metadata": {
        "id": "fIHUNJvzAnWV"
      },
      "execution_count": 39,
      "outputs": []
    },
    {
      "cell_type": "markdown",
      "source": [
        "# 5. Execução de ambiente Python\n",
        "\n",
        "- Variáveis\n",
        "- Funções\n",
        "- I/O\n",
        "- módulos \n",
        "- Instalação de módulos via Pip (https://pip.pypa.io/en/stable/cli/pip_install/)"
      ],
      "metadata": {
        "id": "tCIqllgB4s6W"
      }
    },
    {
      "cell_type": "code",
      "source": [
        "# As variáveis definidas nas células do google colabs são globais para a sessão corrente\n",
        "path_treinamentos = \"/content/gdrive/MyDrive/Ciência da Computação/Doutorado/treinamentos\""
      ],
      "metadata": {
        "id": "08J4G5mM4vPx"
      },
      "execution_count": 19,
      "outputs": []
    },
    {
      "cell_type": "code",
      "source": [
        "print(path_treinamentos)"
      ],
      "metadata": {
        "colab": {
          "base_uri": "https://localhost:8080/"
        },
        "id": "-BLKgjGd5bSR",
        "outputId": "89762275-ba4c-4933-c067-59af0acadedc"
      },
      "execution_count": 2,
      "outputs": [
        {
          "output_type": "stream",
          "name": "stdout",
          "text": [
            "/content/gdrive/MyDrive/Ciência da Computação/Doutorado/treinamentos\n"
          ]
        }
      ]
    },
    {
      "cell_type": "code",
      "source": [
        "# Permite a criação de funções\n",
        "# As funções definidas nas células são globais para a sessão corrente\n",
        "# Dado um path retorna uma lista com os elementos do path\n",
        "# def content_path(path):\n",
        "# ...\n",
        "#   return lista_elementos\n",
        "  "
      ],
      "metadata": {
        "id": "VQ0U_mqW5dFe"
      },
      "execution_count": 32,
      "outputs": []
    },
    {
      "cell_type": "code",
      "source": [
        "# Dada uma lista de elementos\n",
        "lista_elementos = ['Este', 'é', 'um', 'conteúdo','qualquer...']"
      ],
      "metadata": {
        "id": "HwPw2xDT5zJ-"
      },
      "execution_count": 8,
      "outputs": []
    },
    {
      "cell_type": "code",
      "source": [
        "# Salva o conteúdo de uma lista em um arquivo\n",
        "with open('myfile.txt', 'w') as f:\n",
        "  for line in lista_elementos:\n",
        "    f.write(line)"
      ],
      "metadata": {
        "id": "IBhgZPKP6sIK"
      },
      "execution_count": 9,
      "outputs": []
    },
    {
      "cell_type": "code",
      "source": [
        "# Ler as linhas de um arquivo texto\n",
        "arquivo_estados_do_brasil = open('estados.csv', mode='r', encoding='utf-8')\n",
        "cont = 1\n",
        "for line in arquivo_estados_do_brasil:\n",
        "    print(f'{cont}, {line}')\n",
        "    cont = cont + 1"
      ],
      "metadata": {
        "id": "xS1v2yYF7JZQ"
      },
      "execution_count": null,
      "outputs": []
    },
    {
      "cell_type": "code",
      "source": [
        "# uso de módulos via import\n",
        "import pandas as pd"
      ],
      "metadata": {
        "id": "W3HPdGDQ8GZ1"
      },
      "execution_count": 14,
      "outputs": []
    },
    {
      "cell_type": "code",
      "source": [
        "# immporta os dados de um arquivo csv para um dataframe\n",
        "df_estados = pd.read_csv('estados.csv')"
      ],
      "metadata": {
        "id": "4up6bGqv8jyw"
      },
      "execution_count": 17,
      "outputs": []
    },
    {
      "cell_type": "code",
      "source": [
        "# Instalação de módulos externos via pip \n",
        "# instalando o pydriller https://pydriller.readthedocs.io/en/latest/"
      ],
      "metadata": {
        "id": "pW03KKLO8u3A"
      },
      "execution_count": 23,
      "outputs": []
    },
    {
      "cell_type": "code",
      "source": [
        "!pip install pydriller"
      ],
      "metadata": {
        "id": "lsu4SX-E9xa6"
      },
      "execution_count": null,
      "outputs": []
    },
    {
      "cell_type": "code",
      "source": [
        "from pydriller import Repository\n",
        "\n",
        "for commit in Repository(repositorio).traverse_commits():\n",
        "    print('Hash {}, author {}'.format(commit.hash, commit.author.name))"
      ],
      "metadata": {
        "id": "e7DtXWIe-GFe"
      },
      "execution_count": null,
      "outputs": []
    },
    {
      "cell_type": "markdown",
      "source": [
        "# 6. Algumas informações úteis de um repositório de software"
      ],
      "metadata": {
        "id": "Ldj0r4DNBRP4"
      }
    },
    {
      "cell_type": "code",
      "source": [
        "# Lista de branches do repositório promocity\n",
        "!cd promocity && git branch -a"
      ],
      "metadata": {
        "id": "-uFaCtkBBU8k"
      },
      "execution_count": null,
      "outputs": []
    },
    {
      "cell_type": "code",
      "source": [
        "# Tags lancadas do branch promocity\n",
        "!cd promocity && git tag -l"
      ],
      "metadata": {
        "id": "SitET3VnBXh7"
      },
      "execution_count": null,
      "outputs": []
    },
    {
      "cell_type": "code",
      "source": [
        "#Mostra todos os commits entre as tags x e y\n",
        "!cd promocity && git log --pretty=\"%H %s\" x...y > commits_x_y.txt\n",
        "!cd promocity && head xy.txt\n",
        "!echo \"...\"\n",
        "\n",
        "# Total de commits registrados entre as versões x e y\n",
        "!cd promocity && cat xy.txt | wc -l"
      ],
      "metadata": {
        "id": "ZqT6-On4Bhlr"
      },
      "execution_count": null,
      "outputs": []
    },
    {
      "cell_type": "code",
      "source": [
        "# Mostra todos os commits de um repositório de código\n",
        "!cd promocity && git log --pretty=\"%H %s\""
      ],
      "metadata": {
        "id": "d0SFVmrlCJ5H"
      },
      "execution_count": null,
      "outputs": []
    },
    {
      "cell_type": "code",
      "source": [
        "# Mostra apenas os arquivos modificados de um commit\n",
        "!cd promocity && git log -n 1 --name-only bcc61b8c6f83413a008481a3803223335168ae2a"
      ],
      "metadata": {
        "id": "liWg9NniCKdg"
      },
      "execution_count": null,
      "outputs": []
    },
    {
      "cell_type": "code",
      "source": [
        ""
      ],
      "metadata": {
        "id": "LFGDAHOvCuUE"
      },
      "execution_count": null,
      "outputs": []
    }
  ]
}