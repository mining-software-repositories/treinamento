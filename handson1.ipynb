{
  "cells": [
    {
      "cell_type": "markdown",
      "metadata": {},
      "source": [
        "<a href=\"https://colab.research.google.com/github/mining-software-repositories/treinamento/blob/main/handson1.ipynb\" target=\"_parent\"><img src=\"https://colab.research.google.com/assets/colab-badge.svg\" alt=\"Open In Colab\"/></a>"
      ]
    },
    {
      "cell_type": "markdown",
      "metadata": {
        "id": "Ai1bPKdR08uA"
      },
      "source": [
        "# 1. Aspectos básicos do google colab\n",
        "\n",
        "- Google Colab Overview: https://colab.research.google.com/notebooks/basic_features_overview.ipynb\n",
        "\n",
        "- Ambiente interativo que permite escrever e executar código. \n",
        "\n",
        "- Permite o uso de imagem, html, Latex, markdown (https://www.markdownguide.org/getting-started/)\n",
        "\n",
        "- A formatação mais comum é feita via markdown"
      ]
    },
    {
      "cell_type": "markdown",
      "metadata": {
        "id": "E1jCC09L1f2a"
      },
      "source": [
        "# 2. Acesso ao Google Drive pessoal\n",
        "\n",
        "Com os comandos abaixo é possível montar seu google drive na sessão corrente do google colab\n",
        "\n",
        "```python\n",
        "from google.colab import drive\n",
        "drive.mount('/content/gdrive')\n",
        "```\n",
        "\n",
        "Você deverá permitir o acesso do google colab a sua conta do google"
      ]
    },
    {
      "cell_type": "code",
      "execution_count": 6,
      "metadata": {
        "id": "IgjY8uyp1CzB"
      },
      "outputs": [],
      "source": [
        "# Coloque aqui os comandos para montar seu google drive:\n"
      ]
    },
    {
      "cell_type": "markdown",
      "metadata": {
        "id": "BX_ZtORE2Abx"
      },
      "source": [
        "# 3. Execução de comandos Linux"
      ]
    },
    {
      "cell_type": "markdown",
      "metadata": {
        "id": "pZszfT2M3Xwa"
      },
      "source": [
        "pwd - exibe o diretório corrente\n",
        "\n",
        "```bash\n",
        "!pwd\n",
        "```"
      ]
    },
    {
      "cell_type": "code",
      "execution_count": 7,
      "metadata": {
        "id": "Zru3fWtE1uAF"
      },
      "outputs": [],
      "source": [
        "# Teste o comando aqui..."
      ]
    },
    {
      "cell_type": "markdown",
      "metadata": {
        "id": "gDJL7lSk3gtq"
      },
      "source": [
        "ls - lista o conteúdo do diretório corrente\n",
        "\n",
        "```bash\n",
        "!ls\n",
        "```"
      ]
    },
    {
      "cell_type": "code",
      "execution_count": 8,
      "metadata": {
        "id": "7db0XYKW184a"
      },
      "outputs": [],
      "source": [
        "# Teste o comando aqui..."
      ]
    },
    {
      "cell_type": "markdown",
      "metadata": {
        "id": "SnfkTseO3rZs"
      },
      "source": [
        "Acessa um diretório do google drive pessoal\n",
        "\n",
        "/content/gdrive/MyDrive/Ciência da Computação/Doutorado/treinamentos\n"
      ]
    },
    {
      "cell_type": "code",
      "execution_count": 11,
      "metadata": {
        "id": "aQEwAU102EV4"
      },
      "outputs": [],
      "source": []
    },
    {
      "cell_type": "markdown",
      "metadata": {
        "id": "qvmt59KU4FUv"
      },
      "source": [
        "Copia um arquivo da area de trabalho para um diretório no google drive pessoal"
      ]
    },
    {
      "cell_type": "code",
      "execution_count": 11,
      "metadata": {
        "id": "gIqGEYU72pmq"
      },
      "outputs": [],
      "source": []
    },
    {
      "cell_type": "markdown",
      "metadata": {
        "id": "-Goq7grH9Yq-"
      },
      "source": [
        "Download de links públicos da web - wget\n",
        "\n",
        "link: https://raw.githubusercontent.com/leogermani/estados-e-municipios-ibge/master/estados.csv\n",
        "\n",
        "```bash\n",
        "!wget https://raw.githubusercontent.com/leogermani/estados-e-municipios-ibge/master/estados.csv\n",
        "```"
      ]
    },
    {
      "cell_type": "code",
      "execution_count": 9,
      "metadata": {
        "id": "YivCWslz7_pi"
      },
      "outputs": [],
      "source": [
        "# Teste o comando aqui..."
      ]
    },
    {
      "cell_type": "markdown",
      "metadata": {
        "id": "0ySHkhEt-wDy"
      },
      "source": [
        "# 4. Importando um repositório git\n",
        "\n",
        "repositório: https://github.com/armandossrecife/promocity.git\n",
        "\n",
        "```bash\n",
        "!git clone https://github.com/armandossrecife/promocity.git\n",
        "```"
      ]
    },
    {
      "cell_type": "code",
      "execution_count": null,
      "metadata": {
        "colab": {
          "base_uri": "https://localhost:8080/"
        },
        "id": "zRzs-hZo-zrx",
        "outputId": "584218e5-1fb3-4ad8-c37b-32f6a6d14022"
      },
      "outputs": [],
      "source": [
        "# Execute o comando\n",
        "!git clone https://github.com/armandossrecife/promocity.git"
      ]
    },
    {
      "cell_type": "code",
      "execution_count": 11,
      "metadata": {
        "id": "fIHUNJvzAnWV"
      },
      "outputs": [],
      "source": [
        "# guarda um valor em uma variável Python\n",
        "# No google colab, as variáveis definidas na sessão são globais\n",
        "repositorio = \"promocity\""
      ]
    },
    {
      "cell_type": "markdown",
      "metadata": {
        "id": "tCIqllgB4s6W"
      },
      "source": [
        "# 5. Execução de ambiente Python\n",
        "\n",
        "- Variáveis\n",
        "- Funções\n",
        "- I/O\n",
        "- módulos \n",
        "- Instalação de módulos via Pip (https://pip.pypa.io/en/stable/cli/pip_install/)"
      ]
    },
    {
      "cell_type": "code",
      "execution_count": 3,
      "metadata": {
        "id": "08J4G5mM4vPx"
      },
      "outputs": [],
      "source": [
        "# As variáveis definidas nas células do google colabs são globais para a sessão corrente\n",
        "# Substitua por um diretório do seu google drive\n",
        "path_treinamentos = \"/content/gdrive/MyDrive/Ciência da Computação/Doutorado/treinamentos\""
      ]
    },
    {
      "cell_type": "code",
      "execution_count": null,
      "metadata": {
        "colab": {
          "base_uri": "https://localhost:8080/"
        },
        "id": "-BLKgjGd5bSR",
        "outputId": "89762275-ba4c-4933-c067-59af0acadedc"
      },
      "outputs": [],
      "source": [
        "# imprime o conteúdo da variável\n",
        "print(path_treinamentos)"
      ]
    },
    {
      "cell_type": "markdown",
      "metadata": {},
      "source": [
        "```python\n",
        "def content_path(path):\n",
        "  lista_elementos = path.split('/')\n",
        "  return lista_elementos\n",
        "```"
      ]
    },
    {
      "cell_type": "code",
      "execution_count": 12,
      "metadata": {},
      "outputs": [],
      "source": [
        "# Coloque aqui o bloco de código da função content_path e execute a célula para registrar a função na sessão do google colab"
      ]
    },
    {
      "cell_type": "markdown",
      "metadata": {},
      "source": [
        "```python\n",
        "# Dada uma lista de elementos\n",
        "lista_elementos = ['Este', 'é', 'um', 'conteúdo','qualquer...']\n",
        "```"
      ]
    },
    {
      "cell_type": "code",
      "execution_count": 13,
      "metadata": {
        "id": "HwPw2xDT5zJ-"
      },
      "outputs": [],
      "source": [
        "# Coloque aqui o código da lista_elementos"
      ]
    },
    {
      "cell_type": "markdown",
      "metadata": {},
      "source": [
        "```python\n",
        "# Salva o conteúdo de uma lista em um arquivo\n",
        "with open('myfile.txt', 'w') as f:\n",
        "  for line in lista_elementos:\n",
        "    f.write(line)\n",
        "```"
      ]
    },
    {
      "cell_type": "code",
      "execution_count": 15,
      "metadata": {
        "id": "IBhgZPKP6sIK"
      },
      "outputs": [],
      "source": [
        "# Coloque aqui o bloco de código para criar um arquivo"
      ]
    },
    {
      "cell_type": "markdown",
      "metadata": {},
      "source": [
        "```python\n",
        "# Ler as linhas de um arquivo texto\n",
        "arquivo_estados_do_brasil = open('estados.csv', mode='r', encoding='utf-8')\n",
        "cont = 1\n",
        "for line in arquivo_estados_do_brasil:\n",
        "    print(f'{cont}, {line}')\n",
        "    cont = cont + 1\n",
        "```"
      ]
    },
    {
      "cell_type": "code",
      "execution_count": 16,
      "metadata": {
        "id": "xS1v2yYF7JZQ"
      },
      "outputs": [],
      "source": [
        "# Coloque aqui o bloco de código para ler o arquivo estados.csv"
      ]
    },
    {
      "cell_type": "code",
      "execution_count": 14,
      "metadata": {
        "id": "W3HPdGDQ8GZ1"
      },
      "outputs": [],
      "source": [
        "# uso de módulos via import\n",
        "import pandas as pd"
      ]
    },
    {
      "cell_type": "markdown",
      "metadata": {},
      "source": [
        "```python\n",
        "# immporta os dados de um arquivo csv para um dataframe\n",
        "df_estados = pd.read_csv('estados.csv')\n",
        "df_estados\n",
        "```"
      ]
    },
    {
      "cell_type": "code",
      "execution_count": 17,
      "metadata": {
        "id": "4up6bGqv8jyw"
      },
      "outputs": [],
      "source": [
        "# Coloque aqui o bloco de comandos para criar o dataframe df_estados"
      ]
    },
    {
      "cell_type": "markdown",
      "metadata": {},
      "source": [
        "Instalação de módulos externos via pip \n",
        "\n",
        "instalando o pydriller https://pydriller.readthedocs.io/en/latest/"
      ]
    },
    {
      "cell_type": "code",
      "execution_count": null,
      "metadata": {
        "id": "lsu4SX-E9xa6"
      },
      "outputs": [],
      "source": [
        "# Execute o comando abaixo para instalar o pydriller na sessão do google colab\n",
        "!pip install pydriller"
      ]
    },
    {
      "cell_type": "code",
      "execution_count": null,
      "metadata": {
        "id": "e7DtXWIe-GFe"
      },
      "outputs": [],
      "source": [
        "# Execute o bloco abaixo para importar a Classe Repository e listar os commits do repositório\n",
        "\n",
        "from pydriller import Repository\n",
        "\n",
        "for commit in Repository(repositorio).traverse_commits():\n",
        "    print('Hash {}, author {}'.format(commit.hash, commit.author.name))"
      ]
    },
    {
      "cell_type": "markdown",
      "metadata": {
        "id": "Ldj0r4DNBRP4"
      },
      "source": [
        "# 6. Algumas informações úteis de um repositório de software"
      ]
    },
    {
      "cell_type": "code",
      "execution_count": null,
      "metadata": {
        "id": "-uFaCtkBBU8k"
      },
      "outputs": [],
      "source": [
        "# Lista de branches do repositório promocity\n",
        "!cd promocity && git branch -a"
      ]
    },
    {
      "cell_type": "code",
      "execution_count": null,
      "metadata": {
        "id": "SitET3VnBXh7"
      },
      "outputs": [],
      "source": [
        "# Tags lancadas do branch promocity\n",
        "!cd promocity && git tag -l"
      ]
    },
    {
      "cell_type": "code",
      "execution_count": null,
      "metadata": {
        "id": "ZqT6-On4Bhlr"
      },
      "outputs": [],
      "source": [
        "#Mostra todos os commits entre as tags x e y\n",
        "!cd promocity && git log --pretty=\"%H %s\" promocity-v1.0.0...promocity-v1.2.2 > commits_100_122.txt\n",
        "!cd promocity && head commits_100_122.txt\n",
        "!echo \"...\"\n",
        "\n",
        "# Total de commits registrados entre as versões x e y\n",
        "!cd promocity && cat commits_100_122.txt | wc -l"
      ]
    },
    {
      "cell_type": "code",
      "execution_count": null,
      "metadata": {
        "id": "d0SFVmrlCJ5H"
      },
      "outputs": [],
      "source": [
        "# Mostra todos os commits de um repositório de código\n",
        "!cd promocity && git log --pretty=\"%H %s\""
      ]
    },
    {
      "cell_type": "code",
      "execution_count": null,
      "metadata": {
        "id": "liWg9NniCKdg"
      },
      "outputs": [],
      "source": [
        "# Mostra apenas os arquivos modificados de um commit\n",
        "!cd promocity && git log -n 1 --name-only bcc61b8c6f83413a008481a3803223335168ae2a"
      ]
    }
  ],
  "metadata": {
    "colab": {
      "collapsed_sections": [
        "E1jCC09L1f2a"
      ],
      "name": "handson1.ipynb",
      "provenance": []
    },
    "kernelspec": {
      "display_name": "Python 3",
      "name": "python3"
    },
    "language_info": {
      "codemirror_mode": {
        "name": "ipython",
        "version": 3
      },
      "file_extension": ".py",
      "mimetype": "text/x-python",
      "name": "python",
      "nbconvert_exporter": "python",
      "pygments_lexer": "ipython3",
      "version": "3.6.3"
    }
  },
  "nbformat": 4,
  "nbformat_minor": 0
}
