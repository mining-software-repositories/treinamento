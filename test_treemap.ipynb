{
  "cells": [
    {
      "cell_type": "markdown",
      "metadata": {
        "colab_type": "text",
        "id": "view-in-github"
      },
      "source": [
        "<a href=\"https://colab.research.google.com/github/mining-software-repositories/treinamento/blob/main/test_treemap.ipynb\" target=\"_parent\"><img src=\"https://colab.research.google.com/assets/colab-badge.svg\" alt=\"Open In Colab\"/></a>"
      ]
    },
    {
      "cell_type": "markdown",
      "metadata": {
        "id": "SWNigKknU6s9"
      },
      "source": [
        "# Imports"
      ]
    },
    {
      "cell_type": "code",
      "execution_count": null,
      "metadata": {
        "colab": {
          "base_uri": "https://localhost:8080/"
        },
        "id": "HOQSKegLVLlI",
        "outputId": "11cb5ebe-9555-42c5-b9b9-f6fb7f90c31a"
      },
      "outputs": [],
      "source": [
        "# Install and update plotly\n",
        "!pip install plotly==5.5.0"
      ]
    },
    {
      "cell_type": "code",
      "execution_count": null,
      "metadata": {},
      "outputs": [],
      "source": [
        "!pip install lizard"
      ]
    },
    {
      "cell_type": "code",
      "execution_count": 2,
      "metadata": {},
      "outputs": [],
      "source": [
        "# https://github.com/plotly/plotly.py\n",
        "import pandas as pd\n",
        "import lizard"
      ]
    },
    {
      "cell_type": "code",
      "execution_count": 3,
      "metadata": {
        "id": "zyuL4zOkT_VI"
      },
      "outputs": [],
      "source": [
        "import os\n",
        "from pathlib import Path\n",
        "import plotly.graph_objects as go"
      ]
    },
    {
      "cell_type": "markdown",
      "metadata": {
        "id": "XvgQlDuFVYsj"
      },
      "source": [
        "# Clone repository"
      ]
    },
    {
      "cell_type": "code",
      "execution_count": 6,
      "metadata": {},
      "outputs": [
        {
          "name": "stdout",
          "output_type": "stream",
          "text": [
            "Cloning into 'promocity'...\n",
            "remote: Enumerating objects: 841, done.\u001b[K\n",
            "remote: Counting objects: 100% (43/43), done.\u001b[K\n",
            "remote: Compressing objects: 100% (29/29), done.\u001b[K\n",
            "remote: Total 841 (delta 10), reused 21 (delta 2), pack-reused 798\u001b[K\n",
            "\u001b[KReceiving objects: 100% (841/841), 4.00 MiB | 209.00 KiB/s, done.\n",
            "\u001b[KResolving deltas: 100% (324/324), done.\n",
            "Repositorio promocity clonado com sucesso!\n"
          ]
        }
      ],
      "source": [
        "![ -d promocity ] && echo \"Remove diretório promocity antigo\" && rm -rf promocity\n",
        "!git clone https://github.com/armandossrecife/promocity.git\n",
        "!if [ $? -eq 0 ]; then echo \"Repositorio promocity clonado com sucesso!\"; else echo \"Falha ao clonar o repositorio promocity\"; fi"
      ]
    },
    {
      "cell_type": "code",
      "execution_count": null,
      "metadata": {},
      "outputs": [],
      "source": [
        "#For google colab\n",
        "!sudo apt install tree"
      ]
    },
    {
      "cell_type": "code",
      "execution_count": 4,
      "metadata": {},
      "outputs": [],
      "source": [
        "# Cria um arquivo contendo a quantidade de LOC por arquivo\n",
        "!find promocity -name *.java | xargs wc -l > locarquivosjava.txt\n",
        "list_locs_of_files = !cat locarquivosjava.txt\n",
        "\n",
        "# Cria uma lista com elementos que representam o LOC e o arquivo\n",
        "# (Loc, arquivo)\n",
        "list_locs_of_files_updated = []\n",
        "for each in list_locs_of_files:\n",
        "  elementos = each.split(' ') \n",
        "  item = elementos[-2], elementos[-1]\n",
        "  list_locs_of_files_updated.append(item)"
      ]
    },
    {
      "cell_type": "code",
      "execution_count": 5,
      "metadata": {},
      "outputs": [],
      "source": [
        "def search_loc_of_file(file_name, list):\n",
        "  for each in list:\n",
        "    if file_name in each[1]:\n",
        "      return int(each[0])"
      ]
    },
    {
      "cell_type": "code",
      "execution_count": 6,
      "metadata": {},
      "outputs": [
        {
          "data": {
            "text/plain": [
              "587"
            ]
          },
          "execution_count": 6,
          "metadata": {},
          "output_type": "execute_result"
        }
      ],
      "source": [
        "search_loc_of_file('UserController.java', list_locs_of_files_updated)"
      ]
    },
    {
      "cell_type": "code",
      "execution_count": 7,
      "metadata": {},
      "outputs": [],
      "source": [
        "# Pega a complexidade ciclomatica maxima de um arquivo (classe) analisado\n",
        "def get_max_cyclomatic_complexity(filename_with_path):\n",
        "  \"\"\"\n",
        "  Get max cyclomatic complexity of class based on cyclomatic complexity method\n",
        "  @param: str filename_with_path: filename with full path\n",
        "  @return max cyclomatic complexity of filename\n",
        "  \"\"\"\n",
        "  file_to_analyse = lizard.analyze_file(filename_with_path)\n",
        "  cc = 0\n",
        "  list_temp = []\n",
        "  if len(file_to_analyse.function_list) > 0:\n",
        "    for each in file_to_analyse.function_list:\n",
        "      list_temp.append( each.__dict__['cyclomatic_complexity'] )\n",
        "    cc = max(list_temp)\n",
        "  return cc"
      ]
    },
    {
      "cell_type": "code",
      "execution_count": 8,
      "metadata": {},
      "outputs": [],
      "source": [
        "del list_locs_of_files_updated[-1]\n",
        "\n",
        "# Lista com CCs de cada arquivo: (cc, arquivo)\n",
        "list_cc_files = []\n",
        "\n",
        "for each in list_locs_of_files_updated:\n",
        "  filename_with_path = each[1]\n",
        "  cc = get_max_cyclomatic_complexity(filename_with_path)\n",
        "  elemento = (cc, filename_with_path)\n",
        "  list_cc_files.append(elemento)\n",
        "\n",
        "  # (cc, arquivo com o path completo)\n",
        "list_cc_src_java_files = [each for each in list_cc_files if ('src/main/java' in each[1]) ]"
      ]
    },
    {
      "cell_type": "markdown",
      "metadata": {},
      "source": [
        "# Analyzer"
      ]
    },
    {
      "cell_type": "code",
      "execution_count": 9,
      "metadata": {},
      "outputs": [],
      "source": [
        "# Lista todos os arquivos e diretorios\n",
        "list_of_files_and_directories = !cd promocity && tree -i -f"
      ]
    },
    {
      "cell_type": "code",
      "execution_count": 10,
      "metadata": {},
      "outputs": [],
      "source": [
        "# Substitui o . por promocity/\n",
        "list_of_files_and_directories_updated = [each.replace('./', 'promocity/') for each in list_of_files_and_directories]"
      ]
    },
    {
      "cell_type": "code",
      "execution_count": 11,
      "metadata": {},
      "outputs": [],
      "source": [
        "# Escolhe o diretorio do source java\n",
        "# Lista apenas arquivos e diretorios do src/main/java\n",
        "list_of_files_and_directories_src = []\n",
        "\n",
        "for item in list_of_files_and_directories_updated:\n",
        "  if 'src' in item:\n",
        "    if 'src/main/java/' in item:\n",
        "      list_of_files_and_directories_src.append(item)"
      ]
    },
    {
      "cell_type": "code",
      "execution_count": 12,
      "metadata": {},
      "outputs": [],
      "source": [
        "# popula os labels, parents\n",
        "# adaptado de https://plotly.com/python/treemaps/\n",
        "labels = []\n",
        "parents = []\n",
        "for each in list_of_files_and_directories_src:\n",
        "  nome_item = each.split('/')[-1]\n",
        "  labels.append(nome_item)\n",
        "  if os.path.isdir(each):\n",
        "      pai = os.path.dirname(each)\n",
        "      pai = pai.split('/')[-1]\n",
        "      if pai == 'java':\n",
        "        pai = ' '\n",
        "      parents.append(pai)\n",
        "  else: \n",
        "    elemento = Path(each).parent\n",
        "    elemento = str(elemento)\n",
        "    elemento = elemento.split('/')[-1]\n",
        "    parents.append( str(elemento) )"
      ]
    },
    {
      "cell_type": "code",
      "execution_count": 13,
      "metadata": {},
      "outputs": [],
      "source": [
        "values = []\n",
        "for i in range(0, len(labels) ):\n",
        "  each = list_of_files_and_directories_src[i]\n",
        "  nome_item = each.split('/')[-1]\n",
        "  loc = search_loc_of_file(nome_item, list_locs_of_files_updated)\n",
        "  if '.java' in nome_item: \n",
        "    values.append(loc)\n",
        "  else:\n",
        "    values.append(1)"
      ]
    },
    {
      "cell_type": "code",
      "execution_count": 14,
      "metadata": {},
      "outputs": [],
      "source": [
        "# Calcula a complexidade ciclomática máxima de cada arquivo\n",
        "values_cc = []\n",
        "for i in range(0, len(labels) ):\n",
        "  each = list_of_files_and_directories_src[i]\n",
        "  nome_item = each.split('/')[-1]\n",
        "  loc = search_loc_of_file(nome_item, list_cc_src_java_files)\n",
        "  if '.java' in nome_item: \n",
        "    values_cc.append(loc)\n",
        "  else:\n",
        "    values_cc.append(1)\n",
        "\n",
        "values_series = pd.Series(values_cc)"
      ]
    },
    {
      "cell_type": "code",
      "execution_count": 15,
      "metadata": {},
      "outputs": [
        {
          "data": {
            "application/vnd.plotly.v1+json": {
              "config": {
                "plotlyServerURL": "https://plot.ly"
              },
              "data": [
                {
                  "customdata": [
                    1,
                    1,
                    1,
                    1,
                    1,
                    1,
                    1,
                    1,
                    2,
                    1,
                    2,
                    6,
                    1,
                    1,
                    9,
                    1,
                    6,
                    5,
                    8,
                    1,
                    7,
                    14,
                    0,
                    4,
                    1,
                    1,
                    1,
                    1,
                    1,
                    3,
                    1,
                    1,
                    1,
                    2,
                    2,
                    3,
                    1,
                    0,
                    0,
                    0,
                    0,
                    0,
                    0,
                    0,
                    1,
                    1,
                    1,
                    2,
                    2,
                    1,
                    1,
                    1,
                    1,
                    1,
                    1,
                    1,
                    1,
                    1,
                    1,
                    1,
                    1,
                    1,
                    1,
                    0,
                    0,
                    0,
                    0,
                    1,
                    1,
                    1,
                    1,
                    1,
                    1,
                    3,
                    1
                  ],
                  "hoverinfo": "value+text",
                  "hovertemplate": "LoC: %{value}<br>CC: %{customdata}",
                  "hovertext": [
                    1,
                    1,
                    1,
                    1,
                    1,
                    1,
                    1,
                    1,
                    2,
                    1,
                    2,
                    6,
                    1,
                    1,
                    9,
                    1,
                    6,
                    5,
                    8,
                    1,
                    7,
                    14,
                    0,
                    4,
                    1,
                    1,
                    1,
                    1,
                    1,
                    3,
                    1,
                    1,
                    1,
                    2,
                    2,
                    3,
                    1,
                    0,
                    0,
                    0,
                    0,
                    0,
                    0,
                    0,
                    1,
                    1,
                    1,
                    2,
                    2,
                    1,
                    1,
                    1,
                    1,
                    1,
                    1,
                    1,
                    1,
                    1,
                    1,
                    1,
                    1,
                    1,
                    1,
                    0,
                    0,
                    0,
                    0,
                    1,
                    1,
                    1,
                    1,
                    1,
                    1,
                    3,
                    1
                  ],
                  "labels": [
                    "ufc",
                    "cmu",
                    "promocity",
                    "backend",
                    "BackendApplication.java",
                    "GenericExceptionMapper.java",
                    "JerseyConfiguration.java",
                    "context",
                    "CouponsSent.java",
                    "Messenger.java",
                    "PromotionArea.java",
                    "UserLocationMonitoring.java",
                    "controller",
                    "BookController.java",
                    "CouponController.java",
                    "PrincipalController.java",
                    "PromotionController.java",
                    "StoreController.java",
                    "UserController.java",
                    "model",
                    "AbstractModel.java",
                    "Book.java",
                    "Category.java",
                    "Coupon.java",
                    "MyStores.java",
                    "MyTracking.java",
                    "Promotion.java",
                    "Store.java",
                    "Track.java",
                    "Users.java",
                    "report",
                    "ReportApplication.java",
                    "ReportCoupon.java",
                    "ReportPromotion.java",
                    "ReportStore.java",
                    "ReportUser.java",
                    "repository",
                    "CouponsRepository.java",
                    "MyStoresRepository.java",
                    "MyTrackingRepository.java",
                    "PromotionsRepository.java",
                    "StoresRepository.java",
                    "TrackRepository.java",
                    "UsersRepository.java",
                    "security",
                    "WebSecurityConfig.java",
                    "service",
                    "AbstractService.java",
                    "BookService.java",
                    "CouponsService.java",
                    "MyStoresService.java",
                    "MyTrackingService.java",
                    "PromotionsService.java",
                    "StoreService.java",
                    "TrackService.java",
                    "UsersService.java",
                    "exceptions",
                    "BookNotFoundException.java",
                    "CouponNotFoundException.java",
                    "PromotionNotFoundException.java",
                    "StoreNotFoundException.java",
                    "UserNotFoundException.java",
                    "interfaces",
                    "ICouponService.java",
                    "IPromotionService.java",
                    "IStoreService.java",
                    "IUserService.java",
                    "utils",
                    "GeradorSenha.java",
                    "ManipuladorDatas.java",
                    "Message.java",
                    "geographic",
                    "GPSPoint.java",
                    "GeographicArea.java",
                    "LocationStore.java"
                  ],
                  "marker": {
                    "colorbar": {
                      "title": {
                        "text": "CC"
                      }
                    },
                    "colors": [
                      1,
                      1,
                      1,
                      1,
                      1,
                      1,
                      1,
                      1,
                      2,
                      1,
                      2,
                      6,
                      1,
                      1,
                      9,
                      1,
                      6,
                      5,
                      8,
                      1,
                      7,
                      14,
                      0,
                      4,
                      1,
                      1,
                      1,
                      1,
                      1,
                      3,
                      1,
                      1,
                      1,
                      2,
                      2,
                      3,
                      1,
                      0,
                      0,
                      0,
                      0,
                      0,
                      0,
                      0,
                      1,
                      1,
                      1,
                      2,
                      2,
                      1,
                      1,
                      1,
                      1,
                      1,
                      1,
                      1,
                      1,
                      1,
                      1,
                      1,
                      1,
                      1,
                      1,
                      0,
                      0,
                      0,
                      0,
                      1,
                      1,
                      1,
                      1,
                      1,
                      1,
                      3,
                      1
                    ],
                    "colorscale": [
                      [
                        0,
                        "rgb(230, 240, 240)"
                      ],
                      [
                        0.09090909090909091,
                        "rgb(191, 221, 229)"
                      ],
                      [
                        0.18181818181818182,
                        "rgb(156, 201, 226)"
                      ],
                      [
                        0.2727272727272727,
                        "rgb(129, 180, 227)"
                      ],
                      [
                        0.36363636363636365,
                        "rgb(115, 154, 228)"
                      ],
                      [
                        0.45454545454545453,
                        "rgb(117, 127, 221)"
                      ],
                      [
                        0.5454545454545454,
                        "rgb(120, 100, 202)"
                      ],
                      [
                        0.6363636363636364,
                        "rgb(119, 74, 175)"
                      ],
                      [
                        0.7272727272727273,
                        "rgb(113, 50, 141)"
                      ],
                      [
                        0.8181818181818182,
                        "rgb(100, 31, 104)"
                      ],
                      [
                        0.9090909090909091,
                        "rgb(80, 20, 66)"
                      ],
                      [
                        1,
                        "rgb(54, 14, 36)"
                      ]
                    ],
                    "showscale": true
                  },
                  "parents": [
                    " ",
                    "ufc",
                    "cmu",
                    "promocity",
                    "backend",
                    "backend",
                    "backend",
                    "backend",
                    "context",
                    "context",
                    "context",
                    "context",
                    "backend",
                    "controller",
                    "controller",
                    "controller",
                    "controller",
                    "controller",
                    "controller",
                    "backend",
                    "model",
                    "model",
                    "model",
                    "model",
                    "model",
                    "model",
                    "model",
                    "model",
                    "model",
                    "model",
                    "backend",
                    "report",
                    "report",
                    "report",
                    "report",
                    "report",
                    "backend",
                    "repository",
                    "repository",
                    "repository",
                    "repository",
                    "repository",
                    "repository",
                    "repository",
                    "backend",
                    "security",
                    "backend",
                    "service",
                    "service",
                    "service",
                    "service",
                    "service",
                    "service",
                    "service",
                    "service",
                    "service",
                    "service",
                    "exceptions",
                    "exceptions",
                    "exceptions",
                    "exceptions",
                    "exceptions",
                    "service",
                    "interfaces",
                    "interfaces",
                    "interfaces",
                    "interfaces",
                    "backend",
                    "utils",
                    "utils",
                    "utils",
                    "utils",
                    "geographic",
                    "geographic",
                    "geographic"
                  ],
                  "type": "treemap",
                  "values": [
                    1,
                    1,
                    1,
                    1,
                    19,
                    19,
                    47,
                    1,
                    59,
                    25,
                    66,
                    136,
                    1,
                    99,
                    194,
                    65,
                    198,
                    348,
                    587,
                    1,
                    54,
                    111,
                    10,
                    142,
                    34,
                    38,
                    63,
                    79,
                    38,
                    215,
                    1,
                    28,
                    183,
                    118,
                    129,
                    136,
                    1,
                    11,
                    12,
                    12,
                    11,
                    12,
                    11,
                    15,
                    1,
                    25,
                    1,
                    56,
                    93,
                    29,
                    26,
                    28,
                    25,
                    27,
                    31,
                    36,
                    1,
                    22,
                    14,
                    14,
                    14,
                    10,
                    1,
                    13,
                    13,
                    13,
                    15,
                    1,
                    32,
                    27,
                    20,
                    1,
                    38,
                    93,
                    79
                  ]
                }
              ],
              "layout": {
                "margin": {
                  "b": 25,
                  "l": 25,
                  "r": 25,
                  "t": 50
                },
                "template": {
                  "data": {
                    "bar": [
                      {
                        "error_x": {
                          "color": "#2a3f5f"
                        },
                        "error_y": {
                          "color": "#2a3f5f"
                        },
                        "marker": {
                          "line": {
                            "color": "#E5ECF6",
                            "width": 0.5
                          },
                          "pattern": {
                            "fillmode": "overlay",
                            "size": 10,
                            "solidity": 0.2
                          }
                        },
                        "type": "bar"
                      }
                    ],
                    "barpolar": [
                      {
                        "marker": {
                          "line": {
                            "color": "#E5ECF6",
                            "width": 0.5
                          },
                          "pattern": {
                            "fillmode": "overlay",
                            "size": 10,
                            "solidity": 0.2
                          }
                        },
                        "type": "barpolar"
                      }
                    ],
                    "carpet": [
                      {
                        "aaxis": {
                          "endlinecolor": "#2a3f5f",
                          "gridcolor": "white",
                          "linecolor": "white",
                          "minorgridcolor": "white",
                          "startlinecolor": "#2a3f5f"
                        },
                        "baxis": {
                          "endlinecolor": "#2a3f5f",
                          "gridcolor": "white",
                          "linecolor": "white",
                          "minorgridcolor": "white",
                          "startlinecolor": "#2a3f5f"
                        },
                        "type": "carpet"
                      }
                    ],
                    "choropleth": [
                      {
                        "colorbar": {
                          "outlinewidth": 0,
                          "ticks": ""
                        },
                        "type": "choropleth"
                      }
                    ],
                    "contour": [
                      {
                        "colorbar": {
                          "outlinewidth": 0,
                          "ticks": ""
                        },
                        "colorscale": [
                          [
                            0,
                            "#0d0887"
                          ],
                          [
                            0.1111111111111111,
                            "#46039f"
                          ],
                          [
                            0.2222222222222222,
                            "#7201a8"
                          ],
                          [
                            0.3333333333333333,
                            "#9c179e"
                          ],
                          [
                            0.4444444444444444,
                            "#bd3786"
                          ],
                          [
                            0.5555555555555556,
                            "#d8576b"
                          ],
                          [
                            0.6666666666666666,
                            "#ed7953"
                          ],
                          [
                            0.7777777777777778,
                            "#fb9f3a"
                          ],
                          [
                            0.8888888888888888,
                            "#fdca26"
                          ],
                          [
                            1,
                            "#f0f921"
                          ]
                        ],
                        "type": "contour"
                      }
                    ],
                    "contourcarpet": [
                      {
                        "colorbar": {
                          "outlinewidth": 0,
                          "ticks": ""
                        },
                        "type": "contourcarpet"
                      }
                    ],
                    "heatmap": [
                      {
                        "colorbar": {
                          "outlinewidth": 0,
                          "ticks": ""
                        },
                        "colorscale": [
                          [
                            0,
                            "#0d0887"
                          ],
                          [
                            0.1111111111111111,
                            "#46039f"
                          ],
                          [
                            0.2222222222222222,
                            "#7201a8"
                          ],
                          [
                            0.3333333333333333,
                            "#9c179e"
                          ],
                          [
                            0.4444444444444444,
                            "#bd3786"
                          ],
                          [
                            0.5555555555555556,
                            "#d8576b"
                          ],
                          [
                            0.6666666666666666,
                            "#ed7953"
                          ],
                          [
                            0.7777777777777778,
                            "#fb9f3a"
                          ],
                          [
                            0.8888888888888888,
                            "#fdca26"
                          ],
                          [
                            1,
                            "#f0f921"
                          ]
                        ],
                        "type": "heatmap"
                      }
                    ],
                    "heatmapgl": [
                      {
                        "colorbar": {
                          "outlinewidth": 0,
                          "ticks": ""
                        },
                        "colorscale": [
                          [
                            0,
                            "#0d0887"
                          ],
                          [
                            0.1111111111111111,
                            "#46039f"
                          ],
                          [
                            0.2222222222222222,
                            "#7201a8"
                          ],
                          [
                            0.3333333333333333,
                            "#9c179e"
                          ],
                          [
                            0.4444444444444444,
                            "#bd3786"
                          ],
                          [
                            0.5555555555555556,
                            "#d8576b"
                          ],
                          [
                            0.6666666666666666,
                            "#ed7953"
                          ],
                          [
                            0.7777777777777778,
                            "#fb9f3a"
                          ],
                          [
                            0.8888888888888888,
                            "#fdca26"
                          ],
                          [
                            1,
                            "#f0f921"
                          ]
                        ],
                        "type": "heatmapgl"
                      }
                    ],
                    "histogram": [
                      {
                        "marker": {
                          "pattern": {
                            "fillmode": "overlay",
                            "size": 10,
                            "solidity": 0.2
                          }
                        },
                        "type": "histogram"
                      }
                    ],
                    "histogram2d": [
                      {
                        "colorbar": {
                          "outlinewidth": 0,
                          "ticks": ""
                        },
                        "colorscale": [
                          [
                            0,
                            "#0d0887"
                          ],
                          [
                            0.1111111111111111,
                            "#46039f"
                          ],
                          [
                            0.2222222222222222,
                            "#7201a8"
                          ],
                          [
                            0.3333333333333333,
                            "#9c179e"
                          ],
                          [
                            0.4444444444444444,
                            "#bd3786"
                          ],
                          [
                            0.5555555555555556,
                            "#d8576b"
                          ],
                          [
                            0.6666666666666666,
                            "#ed7953"
                          ],
                          [
                            0.7777777777777778,
                            "#fb9f3a"
                          ],
                          [
                            0.8888888888888888,
                            "#fdca26"
                          ],
                          [
                            1,
                            "#f0f921"
                          ]
                        ],
                        "type": "histogram2d"
                      }
                    ],
                    "histogram2dcontour": [
                      {
                        "colorbar": {
                          "outlinewidth": 0,
                          "ticks": ""
                        },
                        "colorscale": [
                          [
                            0,
                            "#0d0887"
                          ],
                          [
                            0.1111111111111111,
                            "#46039f"
                          ],
                          [
                            0.2222222222222222,
                            "#7201a8"
                          ],
                          [
                            0.3333333333333333,
                            "#9c179e"
                          ],
                          [
                            0.4444444444444444,
                            "#bd3786"
                          ],
                          [
                            0.5555555555555556,
                            "#d8576b"
                          ],
                          [
                            0.6666666666666666,
                            "#ed7953"
                          ],
                          [
                            0.7777777777777778,
                            "#fb9f3a"
                          ],
                          [
                            0.8888888888888888,
                            "#fdca26"
                          ],
                          [
                            1,
                            "#f0f921"
                          ]
                        ],
                        "type": "histogram2dcontour"
                      }
                    ],
                    "mesh3d": [
                      {
                        "colorbar": {
                          "outlinewidth": 0,
                          "ticks": ""
                        },
                        "type": "mesh3d"
                      }
                    ],
                    "parcoords": [
                      {
                        "line": {
                          "colorbar": {
                            "outlinewidth": 0,
                            "ticks": ""
                          }
                        },
                        "type": "parcoords"
                      }
                    ],
                    "pie": [
                      {
                        "automargin": true,
                        "type": "pie"
                      }
                    ],
                    "scatter": [
                      {
                        "marker": {
                          "colorbar": {
                            "outlinewidth": 0,
                            "ticks": ""
                          }
                        },
                        "type": "scatter"
                      }
                    ],
                    "scatter3d": [
                      {
                        "line": {
                          "colorbar": {
                            "outlinewidth": 0,
                            "ticks": ""
                          }
                        },
                        "marker": {
                          "colorbar": {
                            "outlinewidth": 0,
                            "ticks": ""
                          }
                        },
                        "type": "scatter3d"
                      }
                    ],
                    "scattercarpet": [
                      {
                        "marker": {
                          "colorbar": {
                            "outlinewidth": 0,
                            "ticks": ""
                          }
                        },
                        "type": "scattercarpet"
                      }
                    ],
                    "scattergeo": [
                      {
                        "marker": {
                          "colorbar": {
                            "outlinewidth": 0,
                            "ticks": ""
                          }
                        },
                        "type": "scattergeo"
                      }
                    ],
                    "scattergl": [
                      {
                        "marker": {
                          "colorbar": {
                            "outlinewidth": 0,
                            "ticks": ""
                          }
                        },
                        "type": "scattergl"
                      }
                    ],
                    "scattermapbox": [
                      {
                        "marker": {
                          "colorbar": {
                            "outlinewidth": 0,
                            "ticks": ""
                          }
                        },
                        "type": "scattermapbox"
                      }
                    ],
                    "scatterpolar": [
                      {
                        "marker": {
                          "colorbar": {
                            "outlinewidth": 0,
                            "ticks": ""
                          }
                        },
                        "type": "scatterpolar"
                      }
                    ],
                    "scatterpolargl": [
                      {
                        "marker": {
                          "colorbar": {
                            "outlinewidth": 0,
                            "ticks": ""
                          }
                        },
                        "type": "scatterpolargl"
                      }
                    ],
                    "scatterternary": [
                      {
                        "marker": {
                          "colorbar": {
                            "outlinewidth": 0,
                            "ticks": ""
                          }
                        },
                        "type": "scatterternary"
                      }
                    ],
                    "surface": [
                      {
                        "colorbar": {
                          "outlinewidth": 0,
                          "ticks": ""
                        },
                        "colorscale": [
                          [
                            0,
                            "#0d0887"
                          ],
                          [
                            0.1111111111111111,
                            "#46039f"
                          ],
                          [
                            0.2222222222222222,
                            "#7201a8"
                          ],
                          [
                            0.3333333333333333,
                            "#9c179e"
                          ],
                          [
                            0.4444444444444444,
                            "#bd3786"
                          ],
                          [
                            0.5555555555555556,
                            "#d8576b"
                          ],
                          [
                            0.6666666666666666,
                            "#ed7953"
                          ],
                          [
                            0.7777777777777778,
                            "#fb9f3a"
                          ],
                          [
                            0.8888888888888888,
                            "#fdca26"
                          ],
                          [
                            1,
                            "#f0f921"
                          ]
                        ],
                        "type": "surface"
                      }
                    ],
                    "table": [
                      {
                        "cells": {
                          "fill": {
                            "color": "#EBF0F8"
                          },
                          "line": {
                            "color": "white"
                          }
                        },
                        "header": {
                          "fill": {
                            "color": "#C8D4E3"
                          },
                          "line": {
                            "color": "white"
                          }
                        },
                        "type": "table"
                      }
                    ]
                  },
                  "layout": {
                    "annotationdefaults": {
                      "arrowcolor": "#2a3f5f",
                      "arrowhead": 0,
                      "arrowwidth": 1
                    },
                    "autotypenumbers": "strict",
                    "coloraxis": {
                      "colorbar": {
                        "outlinewidth": 0,
                        "ticks": ""
                      }
                    },
                    "colorscale": {
                      "diverging": [
                        [
                          0,
                          "#8e0152"
                        ],
                        [
                          0.1,
                          "#c51b7d"
                        ],
                        [
                          0.2,
                          "#de77ae"
                        ],
                        [
                          0.3,
                          "#f1b6da"
                        ],
                        [
                          0.4,
                          "#fde0ef"
                        ],
                        [
                          0.5,
                          "#f7f7f7"
                        ],
                        [
                          0.6,
                          "#e6f5d0"
                        ],
                        [
                          0.7,
                          "#b8e186"
                        ],
                        [
                          0.8,
                          "#7fbc41"
                        ],
                        [
                          0.9,
                          "#4d9221"
                        ],
                        [
                          1,
                          "#276419"
                        ]
                      ],
                      "sequential": [
                        [
                          0,
                          "#0d0887"
                        ],
                        [
                          0.1111111111111111,
                          "#46039f"
                        ],
                        [
                          0.2222222222222222,
                          "#7201a8"
                        ],
                        [
                          0.3333333333333333,
                          "#9c179e"
                        ],
                        [
                          0.4444444444444444,
                          "#bd3786"
                        ],
                        [
                          0.5555555555555556,
                          "#d8576b"
                        ],
                        [
                          0.6666666666666666,
                          "#ed7953"
                        ],
                        [
                          0.7777777777777778,
                          "#fb9f3a"
                        ],
                        [
                          0.8888888888888888,
                          "#fdca26"
                        ],
                        [
                          1,
                          "#f0f921"
                        ]
                      ],
                      "sequentialminus": [
                        [
                          0,
                          "#0d0887"
                        ],
                        [
                          0.1111111111111111,
                          "#46039f"
                        ],
                        [
                          0.2222222222222222,
                          "#7201a8"
                        ],
                        [
                          0.3333333333333333,
                          "#9c179e"
                        ],
                        [
                          0.4444444444444444,
                          "#bd3786"
                        ],
                        [
                          0.5555555555555556,
                          "#d8576b"
                        ],
                        [
                          0.6666666666666666,
                          "#ed7953"
                        ],
                        [
                          0.7777777777777778,
                          "#fb9f3a"
                        ],
                        [
                          0.8888888888888888,
                          "#fdca26"
                        ],
                        [
                          1,
                          "#f0f921"
                        ]
                      ]
                    },
                    "colorway": [
                      "#636efa",
                      "#EF553B",
                      "#00cc96",
                      "#ab63fa",
                      "#FFA15A",
                      "#19d3f3",
                      "#FF6692",
                      "#B6E880",
                      "#FF97FF",
                      "#FECB52"
                    ],
                    "font": {
                      "color": "#2a3f5f"
                    },
                    "geo": {
                      "bgcolor": "white",
                      "lakecolor": "white",
                      "landcolor": "#E5ECF6",
                      "showlakes": true,
                      "showland": true,
                      "subunitcolor": "white"
                    },
                    "hoverlabel": {
                      "align": "left"
                    },
                    "hovermode": "closest",
                    "mapbox": {
                      "style": "light"
                    },
                    "paper_bgcolor": "white",
                    "plot_bgcolor": "#E5ECF6",
                    "polar": {
                      "angularaxis": {
                        "gridcolor": "white",
                        "linecolor": "white",
                        "ticks": ""
                      },
                      "bgcolor": "#E5ECF6",
                      "radialaxis": {
                        "gridcolor": "white",
                        "linecolor": "white",
                        "ticks": ""
                      }
                    },
                    "scene": {
                      "xaxis": {
                        "backgroundcolor": "#E5ECF6",
                        "gridcolor": "white",
                        "gridwidth": 2,
                        "linecolor": "white",
                        "showbackground": true,
                        "ticks": "",
                        "zerolinecolor": "white"
                      },
                      "yaxis": {
                        "backgroundcolor": "#E5ECF6",
                        "gridcolor": "white",
                        "gridwidth": 2,
                        "linecolor": "white",
                        "showbackground": true,
                        "ticks": "",
                        "zerolinecolor": "white"
                      },
                      "zaxis": {
                        "backgroundcolor": "#E5ECF6",
                        "gridcolor": "white",
                        "gridwidth": 2,
                        "linecolor": "white",
                        "showbackground": true,
                        "ticks": "",
                        "zerolinecolor": "white"
                      }
                    },
                    "shapedefaults": {
                      "line": {
                        "color": "#2a3f5f"
                      }
                    },
                    "ternary": {
                      "aaxis": {
                        "gridcolor": "white",
                        "linecolor": "white",
                        "ticks": ""
                      },
                      "baxis": {
                        "gridcolor": "white",
                        "linecolor": "white",
                        "ticks": ""
                      },
                      "bgcolor": "#E5ECF6",
                      "caxis": {
                        "gridcolor": "white",
                        "linecolor": "white",
                        "ticks": ""
                      }
                    },
                    "title": {
                      "x": 0.05
                    },
                    "xaxis": {
                      "automargin": true,
                      "gridcolor": "white",
                      "linecolor": "white",
                      "ticks": "",
                      "title": {
                        "standoff": 15
                      },
                      "zerolinecolor": "white",
                      "zerolinewidth": 2
                    },
                    "yaxis": {
                      "automargin": true,
                      "gridcolor": "white",
                      "linecolor": "white",
                      "ticks": "",
                      "title": {
                        "standoff": 15
                      },
                      "zerolinecolor": "white",
                      "zerolinewidth": 2
                    }
                  }
                }
              }
            }
          },
          "metadata": {},
          "output_type": "display_data"
        }
      ],
      "source": [
        "fig = go.Figure(go.Treemap(\n",
        "    labels = labels,\n",
        "    values = values,\n",
        "    parents = parents, \n",
        "    hoverinfo=\"value+text\",\n",
        "    customdata=values_series,\n",
        "    hovertext=values_series,\n",
        "    hovertemplate='LoC: %{value}<br>CC: %{customdata}', \n",
        "    marker=dict(\n",
        "      colors=values_series,\n",
        "      colorscale='dense',\n",
        "      showscale=True, colorbar={\"title\": 'CC'}))\n",
        ")\n",
        "\n",
        "fig.update_layout(margin = dict(t=50, l=25, r=25, b=25))\n",
        "\n",
        "fig.show()"
      ]
    }
  ],
  "metadata": {
    "colab": {
      "authorship_tag": "ABX9TyNIqnE/+7lcUo4wL5mJ6Zqr",
      "include_colab_link": true,
      "name": "Untitled2.ipynb",
      "provenance": []
    },
    "kernelspec": {
      "display_name": "Python 3",
      "name": "python3"
    },
    "language_info": {
      "codemirror_mode": {
        "name": "ipython",
        "version": 3
      },
      "file_extension": ".py",
      "mimetype": "text/x-python",
      "name": "python",
      "nbconvert_exporter": "python",
      "pygments_lexer": "ipython3",
      "version": "3.6.3"
    }
  },
  "nbformat": 4,
  "nbformat_minor": 0
}
